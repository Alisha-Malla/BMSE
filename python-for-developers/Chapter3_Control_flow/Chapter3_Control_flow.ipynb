{
 "cells": [
  {
   "cell_type": "markdown",
   "metadata": {},
   "source": [
    "Ricardo Duarte, [Python for Developers](http://ricardoduarte.github.io/python-for-developers/#content \"Python for Developers on GitHub\")\n",
    "==========================\n",
    "\n",
    "**Adapted by [Arthur Goldberg](https://www.mountsinai.org/profiles/arthur-p-goldberg) for the [Biomedical Software Engineering](https://learn.mssm.edu/webapps/blackboard/content/listContentEditable.jsp?content_id=_448512_1&course_id=_5776_1 \"Biomedical Software Engineering Blackboard site\") course at the Mount Sinai School of Medicine**\n",
    "\n",
    "Chapter 3: Control Flow\n",
    "=============================\n",
    "\n",
    "if\n",
    "--\n",
    "\n",
    "The Python `if` statement looks like this:\n",
    "\n",
    "    if <condition>:\n",
    "        <code block>\n",
    "    elif <condition>:\n",
    "        <code block>\n",
    "    elif <condition>:\n",
    "        <code block>\n",
    "    else:\n",
    "        <code block>\n",
    "\n",
    "where:\n",
    "\n",
    "+ `<condition>` is an expression that must evaluate to `True` or `False`\n",
    "+ `<code block>` is a sequence of command lines\n",
    "+ The clauses `elif` and `else` are optional, and\n",
    "+ Multiple `elif`s may be used, but only one `else` is allowed\n",
    "\n",
    "Example that categorizes a Celsius temperature:"
   ]
  },
  {
   "cell_type": "code",
   "execution_count": 1,
   "metadata": {},
   "outputs": [
    {
     "name": "stdout",
     "output_type": "stream",
     "text": [
      "Normal\n"
     ]
    }
   ],
   "source": [
    "temp_C = 23 # temperature value used to test\n",
    "\n",
    "if temp_C <= 0:\n",
    "    print('Freezing...')\n",
    "elif 0 < temp_C <= 20:\n",
    "    print('Cold')\n",
    "elif 20 < temp_C <= 25:\n",
    "    print('Normal')\n",
    "elif 25 < temp_C <= 35:\n",
    "    print('Hot')\n",
    "else:\n",
    "    print('Very Hot!')"
   ]
  },
  {
   "cell_type": "markdown",
   "metadata": {},
   "source": [
    "If a code block is composed of only one line, it can be written after the colon:"
   ]
  },
  {
   "cell_type": "code",
   "execution_count": 2,
   "metadata": {},
   "outputs": [
    {
     "name": "stdout",
     "output_type": "stream",
     "text": [
      "Freezing...\n"
     ]
    }
   ],
   "source": [
    "temp = -1\n",
    "if temp < 0: print('Freezing...')"
   ]
  },
  {
   "cell_type": "markdown",
   "metadata": {},
   "source": [
    "one line if\n",
    "--\n",
    "\n",
    "Since Python version 2.5, an `if` statement can be written in 1 line as a *conditional expression*:\n",
    "\n",
    "    <expression 1> if <condition> else <expression 2>\n",
    "\n",
    "This evaluates to `<expression 1>` if `<condition>` is true and `<expression 2>` otherwise.\n",
    "\n",
    "We illustrate this in a `for` loop.\n",
    "\n",
    "for\n",
    "---"
   ]
  },
  {
   "cell_type": "code",
   "execution_count": 10,
   "metadata": {},
   "outputs": [
    {
     "name": "stdout",
     "output_type": "stream",
     "text": [
      "1 is None OK\n",
      "3 is my favorite! None\n",
      "5 is None OK\n"
     ]
    }
   ],
   "source": [
    "for i in [1, 3, 5]:\n",
    "    opinion = 'my favorite!' if i==3 else 'OK'\n",
    "    opinion, chris = ('my favorite!', None) if i==3 else (None, 'OK')\n",
    "    print(i, 'is', opinion, chris)"
   ]
  },
  {
   "cell_type": "markdown",
   "metadata": {},
   "source": [
    "A `for` loop iterates over all elements in the expression following `in`. In addition to lists, many functions, methods and data structures return or are Python iterators, i.e., objects which can be iterated over. E.g., `range(i)` iterates over the integers `0, ..., i-1`, while `range(lower, upper)` iterates over `lower, ..., upper-1`. Although it it's not a function, `range` is one of over 70 built-in Python functions described in the [Built-in Functions](https://docs.python.org/3/library/functions.html) page."
   ]
  },
  {
   "cell_type": "code",
   "execution_count": 4,
   "metadata": {},
   "outputs": [
    {
     "name": "stdout",
     "output_type": "stream",
     "text": [
      "range(3)\n",
      "0\n",
      "1\n",
      "2\n",
      "\n",
      "range(10, 15)\n",
      "10\n",
      "11\n",
      "12\n",
      "13\n",
      "14\n",
      "\n",
      "range(10, 1, -1)\n",
      "10\n",
      "9\n",
      "8\n",
      "7\n",
      "6\n",
      "5\n",
      "4\n",
      "3\n",
      "2\n",
      "1\n",
      "Liftoff!\n"
     ]
    }
   ],
   "source": [
    "print('range(3)')\n",
    "for i in range(3):\n",
    "    print(i)\n",
    "print('\\nrange(10, 15)')\n",
    "for j in range(10, 15):\n",
    "    print(j)\n",
    "print('\\nrange(10, 1, -1)')\n",
    "for t in range(10, 0, -1):\n",
    "    print(t)\n",
    "print('Liftoff!')"
   ]
  },
  {
   "cell_type": "markdown",
   "metadata": {},
   "source": [
    "`for` and `while` loops provide two ways to alter the control flow of a loop:\n",
    "+ `continue` goes to the top of the loop and starts the next iteration\n",
    "+ `break` immediately exits the loop\n",
    "\n",
    "`continue` helps programmers write more comprehensible loop bodies, because they need fewer `elif` or `else` clauses."
   ]
  },
  {
   "cell_type": "code",
   "execution_count": 5,
   "metadata": {},
   "outputs": [
    {
     "name": "stdout",
     "output_type": "stream",
     "text": [
      "0 is divisible by my favorite\n",
      "3 is my favorite!\n",
      "6 is divisible by my favorite\n",
      "9 is divisible by my favorite\n",
      "12 is divisible by my favorite\n",
      "13 contains my favorite\n"
     ]
    }
   ],
   "source": [
    "favorite = 3\n",
    "# with continue, it's easy to make at most one comment about each i\n",
    "for i in range(15):\n",
    "    if i==3:\n",
    "        print('3 is my favorite!')\n",
    "        continue\n",
    "    if i%3 == 0:\n",
    "        print(i, 'is divisible by my favorite')\n",
    "        continue\n",
    "    if '3' in str(i):\n",
    "        print(i, 'contains my favorite')\n",
    "        continue"
   ]
  },
  {
   "cell_type": "markdown",
   "metadata": {},
   "source": [
    "`break` helps end loops without needing `elif` or `else` clauses. E.g., this is part of a multi-algorithmic biochemical simulator I'm writing."
   ]
  },
  {
   "cell_type": "code",
   "execution_count": 6,
   "metadata": {},
   "outputs": [],
   "source": [
    "def simulate(self, end_time, epsilon=None, stop_condition=None):\n",
    "    while self.time <= end_time:\n",
    "        # use the stop condition\n",
    "        if self.stop_condition is not None and self.stop_condition(self.time):\n",
    "            self.log_with_time(\" Terminate with stop condition satisfied\")\n",
    "            break\n",
    "\n",
    "        # get the earliest next event in the simulation\n",
    "        next_time = self.event_queue.next_event_time()\n",
    "\n",
    "        if float('inf') == next_time:\n",
    "            self.log_with_time(\" No events remain\")\n",
    "            break\n",
    "\n",
    "        if end_time < next_time:\n",
    "            self.log_with_time(\" End time exceeded\")\n",
    "            break"
   ]
  },
  {
   "cell_type": "markdown",
   "metadata": {},
   "source": [
    "But `continue` and `break` aren't used frequently. E.g., we use them 29 and 17 times respectively in 43,730 lines of code and comments in 3 packages we're building. By comparison, this code contains about 1709 methods and functions."
   ]
  },
  {
   "cell_type": "markdown",
   "metadata": {},
   "source": [
    "while\n",
    "------\n",
    "`while` loops run while the condition is `True`:\n",
    "    \n",
    "    while <condition>:\n",
    "        <while body>"
   ]
  },
  {
   "cell_type": "code",
   "execution_count": 7,
   "metadata": {},
   "outputs": [
    {
     "name": "stdout",
     "output_type": "stream",
     "text": [
      "4 <= 2 ** 2\n"
     ]
    }
   ],
   "source": [
    "# determine the smallest power of 2 that's <= an input\n",
    "steps = 0\n",
    "pow_2 = 1\n",
    "\n",
    "input = 4\n",
    "while pow_2 < input:\n",
    "    steps += 1\n",
    "    pow_2 = pow_2 * 2\n",
    "print(input, '<=', '2 **', steps)"
   ]
  },
  {
   "cell_type": "markdown",
   "metadata": {},
   "source": [
    "nesting\n",
    "------\n",
    "\n",
    "Control flow statements can be nested to arbitrary depth. However, depths greater than 3 to 5 may be difficult to understand, depending on their structure. But this one is easy to comprehend."
   ]
  },
  {
   "cell_type": "code",
   "execution_count": 8,
   "metadata": {},
   "outputs": [
    {
     "name": "stdout",
     "output_type": "stream",
     "text": [
      "all possible 4 bit numbers\n",
      "0 0 0 0\n",
      "0 0 0 1\n",
      "0 0 1 0\n",
      "0 0 1 1\n",
      "0 1 0 0\n",
      "0 1 0 1\n",
      "0 1 1 0\n",
      "0 1 1 1\n",
      "1 0 0 0\n",
      "1 0 0 1\n",
      "1 0 1 0\n",
      "1 0 1 1\n",
      "1 1 0 0\n",
      "1 1 0 1\n",
      "1 1 1 0\n",
      "1 1 1 1\n"
     ]
    }
   ],
   "source": [
    "bits = [0, 1]\n",
    "print('all possible 4 bit numbers')\n",
    "for i in bits:\n",
    "    for j in bits:\n",
    "        for k in bits:\n",
    "            for l in bits:\n",
    "                print(i, j, k, l)\n"
   ]
  },
  {
   "cell_type": "code",
   "execution_count": null,
   "metadata": {},
   "outputs": [],
   "source": []
  }
 ],
 "metadata": {
  "kernelspec": {
   "display_name": "Python 3",
   "language": "python",
   "name": "python3"
  },
  "language_info": {
   "codemirror_mode": {
    "name": "ipython",
    "version": 3
   },
   "file_extension": ".py",
   "mimetype": "text/x-python",
   "name": "python",
   "nbconvert_exporter": "python",
   "pygments_lexer": "ipython3",
   "version": "3.6.5"
  }
 },
 "nbformat": 4,
 "nbformat_minor": 1
}
