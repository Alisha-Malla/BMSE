{
 "cells": [
  {
   "cell_type": "markdown",
   "metadata": {},
   "source": [
    "Ricardo Duarte, [Python for Developers](http://ricardoduarte.github.io/python-for-developers/#content \"Python for Developers on GitHub\")\n",
    "==========================\n",
    "\n",
    "**Adapted by [Arthur Goldberg](https://www.mountsinai.org/profiles/arthur-p-goldberg) for the [Biomedical Software Engineering](https://learn.mssm.edu/webapps/blackboard/content/listContentEditable.jsp?content_id=_448512_1&course_id=_5776_1 \"Biomedical Software Engineering Blackboard site\") course at the Mount Sinai School of Medicine**\n",
    "\n",
    "Chapter 2: Syntax\n",
    "===================\n",
    "\n",
    "A programming language's *syntax* defines the structure and meaning of the text (usually) used by the language's programs.\n",
    "\n",
    "Python programs are lines of text.\n",
    "\n",
    "A `#` marks the beginning of a comment. All text after the `#` will be ignored until the end of the line, with the exception of functional comments.\n",
    "\n",
    "Functional comments are used to:\n",
    "\n",
    "+ Define the interpreter that will be used to run the program on UNIX systems, through a comment starting with `#!` at the beginning of the file, which indicates the path to the interpreter (usually the comment line will be something like` #!/usr/bin/env python` ).\n",
    "+ Change the encoding of the source file of the program by adding a comment with the text `# - * - coding: <encoding> - # -` at the beginning of the file, in which `<encoding> ` is the file encoding (usually latin1 or utf-8). Changing encoding is required to support characters that are not part of the English language, in the source code of the program.\n",
    "+ Provide advice in a pragma that's used by another program processing the Python.\n",
    "\n",
    "Example functional comments:"
   ]
  },
  {
   "cell_type": "code",
   "execution_count": 1,
   "metadata": {},
   "outputs": [
    {
     "name": "stdout",
     "output_type": "stream",
     "text": [
      "else clause\n"
     ]
    }
   ],
   "source": [
    "#!/usr/bin/env python\n",
    "# the line above is a functional comment\n",
    "\n",
    "# the 'pragma no cover' comment tells a code coverage application that\n",
    "# it should not expect the print('Surprise!') line to ever execute\n",
    "if False:\n",
    "    print('Surprise!')   # pragma no cover\n",
    "else:\n",
    "    print('else clause')"
   ]
  },
  {
   "cell_type": "markdown",
   "metadata": {},
   "source": [
    "If the above code is stored in file `example.py` and the file is executable,\n",
    "then executing it will use Python to run its code."
   ]
  },
  {
   "cell_type": "markdown",
   "metadata": {},
   "source": [
    "A line of Python code can be continued on the following line by using the backslash character (`\\`) at the end of the line, or parentheses, brackets or braces in expressions that use such characters. Subsequent lines are called [*continuation* lines](https://www.python.org/dev/peps/pep-0008/).\n",
    "\n",
    "Examples of continued lines:"
   ]
  },
  {
   "cell_type": "code",
   "execution_count": 2,
   "metadata": {},
   "outputs": [
    {
     "name": "stdout",
     "output_type": "stream",
     "text": [
      "23.5 ['a', 'b', 'c', 'd', 'e'] range(1, 11)\n"
     ]
    }
   ],
   "source": [
    "# A line continued by a backslash\n",
    "a = 7 * 3 + \\\n",
    "    5 / 2\n",
    "\n",
    "# A list\n",
    "b = ['a', 'b', 'c', \n",
    "    'd', 'e']\n",
    "\n",
    "# A function call\n",
    "c = range(1,\n",
    "    11)\n",
    "\n",
    "# note that continuation lines should be indented\n",
    "print(a, b, c)\n"
   ]
  },
  {
   "cell_type": "markdown",
   "metadata": {},
   "source": [
    "The function `print` inserts spaces between expressions that are received as a parameter, and a newline character at the end. The newline can be suppressed.\n",
    "\n",
    "Blocks\n",
    "------\n",
    "In Python, code blocks are defined by indentation, which must be constant in a block. \n",
    "\n",
    "It is good practice to maintain consistent indentation throughout a project, and avoid mixing tabs and spaces.\n",
    "The official recommended style, presented in [PEP8](http://www.python.org/dev/peps/pep-0008/) by Guido van Rossum, Barry Warsaw, and Nick Coghlan, indents 4 spaces. This convention is widely accepted.\n",
    "\n",
    "The line before a block must ends with a colon `:` and is a control structure of the language or a statement of a new structure (a function, for example).\n",
    "\n",
    "This illustrates a `while` loop and an `if` - `else` statement.\n",
    "\n",
    "![Program structure](files/bpyfd_diags2.png)\n",
    "\n",
    "Real example:"
   ]
  },
  {
   "cell_type": "code",
   "execution_count": 4,
   "metadata": {},
   "outputs": [
    {
     "name": "stdout",
     "output_type": "stream",
     "text": [
      "6 is OK\n",
      "5 is OK\n",
      "4 is OK\n",
      "but 3 is my favorite\n",
      "2 is OK\n",
      "1 is OK\n"
     ]
    }
   ],
   "source": [
    "# note that the correct capitalization is different from the figure above\n",
    "i = 6\n",
    "while 0<i:\n",
    "    if i==3:\n",
    "        print('but 3 is my favorite')\n",
    "    else:\n",
    "        print(i, 'is OK')\n",
    "    i = i-1"
   ]
  }
 ],
 "metadata": {
  "kernelspec": {
   "display_name": "Python 3",
   "language": "python",
   "name": "python3"
  },
  "language_info": {
   "codemirror_mode": {
    "name": "ipython",
    "version": 3
   },
   "file_extension": ".py",
   "mimetype": "text/x-python",
   "name": "python",
   "nbconvert_exporter": "python",
   "pygments_lexer": "ipython3",
   "version": "3.6.5"
  }
 },
 "nbformat": 4,
 "nbformat_minor": 1
}
